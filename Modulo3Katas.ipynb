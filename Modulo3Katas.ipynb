{
 "cells": [
  {
   "cell_type": "markdown",
   "metadata": {},
   "source": [
    "## Modulo 3 Katas"
   ]
  },
  {
   "cell_type": "markdown",
   "metadata": {},
   "source": [
    "Ejercicio 1"
   ]
  },
  {
   "cell_type": "code",
   "execution_count": 3,
   "metadata": {},
   "outputs": [
    {
     "name": "stdout",
     "output_type": "stream",
     "text": [
      "No hay peligro con el asteroide\n"
     ]
    }
   ],
   "source": [
    "VelAsteroide = 20\n",
    "if VelAsteroide > 25:\n",
    "    print(\"ALERTA, el asteroide tiene una velocidad superior a 25 km/s\")\n",
    "else:\n",
    "    print(\"No hay peligro con el asteroide\")"
   ]
  },
  {
   "cell_type": "markdown",
   "metadata": {},
   "source": [
    "Ejercicio 2"
   ]
  },
  {
   "cell_type": "code",
   "execution_count": 5,
   "metadata": {},
   "outputs": [
    {
     "name": "stdout",
     "output_type": "stream",
     "text": [
      "Hay luz en el cielo\n"
     ]
    }
   ],
   "source": [
    "VelAsteroide = 21\n",
    "if VelAsteroide >= 20:\n",
    "    print(\"Hay luz en el cielo\")\n",
    "else:\n",
    "    print(\"No hay nada en el cielo\")"
   ]
  },
  {
   "cell_type": "markdown",
   "metadata": {},
   "source": [
    "Ejercicio 3"
   ]
  },
  {
   "cell_type": "code",
   "execution_count": 7,
   "metadata": {},
   "outputs": [
    {
     "name": "stdout",
     "output_type": "stream",
     "text": [
      "LA TIERRA ESTA EN PELIGRO\n"
     ]
    }
   ],
   "source": [
    "VelAsteroide = 26\n",
    "TamAsteroirde = 40\n",
    "if VelAsteroide > 25 and TamAsteroirde > 25:\n",
    "    print(\"LA TIERRA ESTA EN PELIGRO\")\n",
    "elif VelAsteroide >= 20:\n",
    "    print(\"Hay luz en el cielo\")\n",
    "elif TamAsteroirde < 25:\n",
    "    print(\"Todo esta normal\")\n",
    "else:\n",
    "    print(\"Todo esta normal\")"
   ]
  }
 ],
 "metadata": {
  "interpreter": {
   "hash": "5641a5e98cf1db76abce541f8d061fb0cee34dd1649a55e8a66d3343e4f51b91"
  },
  "kernelspec": {
   "display_name": "Python 3.9.10 64-bit",
   "language": "python",
   "name": "python3"
  },
  "language_info": {
   "codemirror_mode": {
    "name": "ipython",
    "version": 3
   },
   "file_extension": ".py",
   "mimetype": "text/x-python",
   "name": "python",
   "nbconvert_exporter": "python",
   "pygments_lexer": "ipython3",
   "version": "3.9.10"
  },
  "orig_nbformat": 4
 },
 "nbformat": 4,
 "nbformat_minor": 2
}
